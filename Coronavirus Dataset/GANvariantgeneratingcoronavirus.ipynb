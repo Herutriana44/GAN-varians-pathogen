{
 "cells": [
  {
   "cell_type": "code",
   "execution_count": 3,
   "metadata": {},
   "outputs": [],
   "source": [
    "import pandas as pd\n",
    "import pickle as pkl\n",
    "import numpy as np\n",
    "import matplotlib.pyplot as plt\n",
    "import seaborn as sns\n",
    "from sklearn.naive_bayes import GaussianNB\n",
    "from sklearn.preprocessing import LabelEncoder\n",
    "from sklearn.preprocessing import OneHotEncoder"
   ]
  },
  {
   "cell_type": "code",
   "execution_count": 6,
   "metadata": {},
   "outputs": [
    {
     "data": {
      "text/html": [
       "<div>\n",
       "<style scoped>\n",
       "    .dataframe tbody tr th:only-of-type {\n",
       "        vertical-align: middle;\n",
       "    }\n",
       "\n",
       "    .dataframe tbody tr th {\n",
       "        vertical-align: top;\n",
       "    }\n",
       "\n",
       "    .dataframe thead th {\n",
       "        text-align: right;\n",
       "    }\n",
       "</style>\n",
       "<table border=\"1\" class=\"dataframe\">\n",
       "  <thead>\n",
       "    <tr style=\"text-align: right;\">\n",
       "      <th></th>\n",
       "      <th>id</th>\n",
       "      <th>name</th>\n",
       "      <th>description</th>\n",
       "      <th>number of features</th>\n",
       "      <th>sequence</th>\n",
       "      <th>label</th>\n",
       "    </tr>\n",
       "  </thead>\n",
       "  <tbody>\n",
       "    <tr>\n",
       "      <th>0</th>\n",
       "      <td>SNQ27972.1</td>\n",
       "      <td>SNQ27972.1</td>\n",
       "      <td>SNQ27972.1 replicase polyprotein [Porcine epid...</td>\n",
       "      <td>0</td>\n",
       "      <td>MASNHVTLAFANDAEISAFGFCTASEAVSYYSEAAASGFMQCRFVS...</td>\n",
       "      <td>alpha</td>\n",
       "    </tr>\n",
       "    <tr>\n",
       "      <th>1</th>\n",
       "      <td>SNQ27973.1</td>\n",
       "      <td>SNQ27973.1</td>\n",
       "      <td>SNQ27973.1 spike protein [Porcine epidemic dia...</td>\n",
       "      <td>0</td>\n",
       "      <td>MKSLNYFWLFLPVLSTLSLPQDVTRCQSTINFRRFFSKFNVQAPAV...</td>\n",
       "      <td>alpha</td>\n",
       "    </tr>\n",
       "    <tr>\n",
       "      <th>2</th>\n",
       "      <td>SNQ27975.1</td>\n",
       "      <td>SNQ27975.1</td>\n",
       "      <td>SNQ27975.1 accessory membrane protein [Porcine...</td>\n",
       "      <td>0</td>\n",
       "      <td>MFLGLFQYTIDTVVKDVSKSANLSLDAVQELELNVVPIRQASNVTG...</td>\n",
       "      <td>alpha</td>\n",
       "    </tr>\n",
       "    <tr>\n",
       "      <th>3</th>\n",
       "      <td>SNQ27976.1</td>\n",
       "      <td>SNQ27976.1</td>\n",
       "      <td>SNQ27976.1 envelope protein [Porcine epidemic ...</td>\n",
       "      <td>0</td>\n",
       "      <td>MLQLVNDNGLVVNVILWLFVLFFLLIISITFVQLVNLCFTCHRLCN...</td>\n",
       "      <td>alpha</td>\n",
       "    </tr>\n",
       "    <tr>\n",
       "      <th>4</th>\n",
       "      <td>SNQ27977.1</td>\n",
       "      <td>SNQ27977.1</td>\n",
       "      <td>SNQ27977.1 membrane protein [Porcine epidemic ...</td>\n",
       "      <td>0</td>\n",
       "      <td>MSNGSIPVDEVIQHLRNWNFTWNIILTILLVVLQYGHYKYSAFLYG...</td>\n",
       "      <td>alpha</td>\n",
       "    </tr>\n",
       "  </tbody>\n",
       "</table>\n",
       "</div>"
      ],
      "text/plain": [
       "           id        name                                        description  \\\n",
       "0  SNQ27972.1  SNQ27972.1  SNQ27972.1 replicase polyprotein [Porcine epid...   \n",
       "1  SNQ27973.1  SNQ27973.1  SNQ27973.1 spike protein [Porcine epidemic dia...   \n",
       "2  SNQ27975.1  SNQ27975.1  SNQ27975.1 accessory membrane protein [Porcine...   \n",
       "3  SNQ27976.1  SNQ27976.1  SNQ27976.1 envelope protein [Porcine epidemic ...   \n",
       "4  SNQ27977.1  SNQ27977.1  SNQ27977.1 membrane protein [Porcine epidemic ...   \n",
       "\n",
       "   number of features                                           sequence  \\\n",
       "0                   0  MASNHVTLAFANDAEISAFGFCTASEAVSYYSEAAASGFMQCRFVS...   \n",
       "1                   0  MKSLNYFWLFLPVLSTLSLPQDVTRCQSTINFRRFFSKFNVQAPAV...   \n",
       "2                   0  MFLGLFQYTIDTVVKDVSKSANLSLDAVQELELNVVPIRQASNVTG...   \n",
       "3                   0  MLQLVNDNGLVVNVILWLFVLFFLLIISITFVQLVNLCFTCHRLCN...   \n",
       "4                   0  MSNGSIPVDEVIQHLRNWNFTWNIILTILLVVLQYGHYKYSAFLYG...   \n",
       "\n",
       "   label  \n",
       "0  alpha  \n",
       "1  alpha  \n",
       "2  alpha  \n",
       "3  alpha  \n",
       "4  alpha  "
      ]
     },
     "execution_count": 6,
     "metadata": {},
     "output_type": "execute_result"
    }
   ],
   "source": [
    "df = pd.read_csv('datasetCoronavirus.csv')\n",
    "df.head()"
   ]
  },
  {
   "cell_type": "code",
   "execution_count": 7,
   "metadata": {},
   "outputs": [],
   "source": [
    "df['length of protein'] = df['sequence'].apply(len)"
   ]
  },
  {
   "cell_type": "code",
   "execution_count": 9,
   "metadata": {},
   "outputs": [
    {
     "name": "stdout",
     "output_type": "stream",
     "text": [
      "2277.5747001090513\n"
     ]
    }
   ],
   "source": [
    "mean_of_length = df['length of protein'].mean()\n",
    "print(mean_of_length)"
   ]
  },
  {
   "cell_type": "code",
   "execution_count": 57,
   "metadata": {},
   "outputs": [],
   "source": [
    "# extract features from sequences using count amino acids percentage in each sequence\n",
    "def extract_features(X):\n",
    "    features = []\n",
    "    for sequence in X:\n",
    "        feature = []\n",
    "        for amino_acid in 'ACDEFGHIKLMNPQRSTVWY':\n",
    "            feature.append(sequence.count(amino_acid) / len(sequence))\n",
    "        features.append(feature)\n",
    "    return features"
   ]
  },
  {
   "cell_type": "code",
   "execution_count": 60,
   "metadata": {},
   "outputs": [],
   "source": [
    "def Discriminator(gen):\n",
    "    gen = gen.upper()\n",
    "    sequence = extract_features([gen])\n",
    "    # load the model from disk\n",
    "    filename = 'NBcoronavirus.pkl'\n",
    "    model = pkl.load(open(filename, 'rb'))\n",
    "    # predict the class\n",
    "    yhat = model.predict(sequence)\n",
    "    return yhat"
   ]
  },
  {
   "cell_type": "code",
   "execution_count": 35,
   "metadata": {},
   "outputs": [],
   "source": [
    "def Generate():\n",
    "    gen = []\n",
    "    aminoacids = ['A', 'C', 'D', 'E', 'F', 'G', 'H', 'I', 'K', 'L', 'M', 'N', 'P', 'Q', 'R', 'S', 'T', 'V', 'W', 'Y']\n",
    "    length = 100#2257\n",
    "    for i in range(length):\n",
    "        gen.append(np.random.choice(aminoacids))\n",
    "    gen = ''.join(gen)\n",
    "    return gen"
   ]
  },
  {
   "cell_type": "code",
   "execution_count": 65,
   "metadata": {},
   "outputs": [],
   "source": [
    "def GANofVarian(label):\n",
    "    gen = Generate()\n",
    "    print(gen)\n",
    "    y_pred = Discriminator(gen)\n",
    "    if y_pred[0] == label:\n",
    "        print(f'The generated sequence is a {label} coronavirus')\n",
    "    else:\n",
    "        print('The generated sequence is not a coronavirus')"
   ]
  },
  {
   "cell_type": "code",
   "execution_count": 61,
   "metadata": {},
   "outputs": [
    {
     "name": "stdout",
     "output_type": "stream",
     "text": [
      "['delta']\n"
     ]
    }
   ],
   "source": [
    "print(Discriminator('LYYDWTRGVNNFNKSARMWQPFGPHCVPVQRMNPIVPTWKNCFPANFDARSQICFHYTGMIAEVHQDKQFTAIWWPIYPVAMNYCHHHVWKKRGPPDHDM'))"
   ]
  },
  {
   "cell_type": "code",
   "execution_count": 80,
   "metadata": {},
   "outputs": [
    {
     "name": "stdout",
     "output_type": "stream",
     "text": [
      "VPHYGGRQRHIKWEKAKHFSLMCACPHLEMAVNVMMNVVDHEVPTYAIGEWNFQMGDLVIDQPSQNSAKEYKDSTYWIEWRDQTWTDWNVQDLGAQNGIN\n",
      "The generated sequence is not a coronavirus\n"
     ]
    }
   ],
   "source": [
    "GANofVarian('beta')"
   ]
  }
 ],
 "metadata": {
  "kernelspec": {
   "display_name": "Python 3",
   "language": "python",
   "name": "python3"
  },
  "language_info": {
   "codemirror_mode": {
    "name": "ipython",
    "version": 3
   },
   "file_extension": ".py",
   "mimetype": "text/x-python",
   "name": "python",
   "nbconvert_exporter": "python",
   "pygments_lexer": "ipython3",
   "version": "3.9.2"
  },
  "orig_nbformat": 4,
  "vscode": {
   "interpreter": {
    "hash": "916dbcbb3f70747c44a77c7bcd40155683ae19c65e1c03b4aa3499c5328201f1"
   }
  }
 },
 "nbformat": 4,
 "nbformat_minor": 2
}
