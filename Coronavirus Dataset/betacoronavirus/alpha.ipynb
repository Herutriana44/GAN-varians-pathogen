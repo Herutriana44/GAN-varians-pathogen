{
 "cells": [
  {
   "cell_type": "code",
   "execution_count": 1,
   "metadata": {},
   "outputs": [],
   "source": [
    "from Bio import SeqIO\n",
    "import os"
   ]
  },
  {
   "cell_type": "code",
   "execution_count": 2,
   "metadata": {},
   "outputs": [],
   "source": [
    "dir = \"data\"\n",
    "data = os.listdir(dir)\n",
    "data.remove('dataset_catalog.json')\n",
    "data.remove('assembly_data_report.jsonl')\n",
    "data.remove('data_summary.tsv')"
   ]
  },
  {
   "cell_type": "code",
   "execution_count": 3,
   "metadata": {},
   "outputs": [],
   "source": [
    "seq = []\n",
    "\n",
    "# ambil file fasta fna dari dolfer pada data\n",
    "for i in data:\n",
    "    path = dir + \"/\" + i\n",
    "    path = path + \"/\" + os.listdir(path)[0]\n",
    "\n",
    "    # import file fasta fna\n",
    "    file_seq = list(SeqIO.parse(path, \"fasta\"))\n",
    "    for j in file_seq:\n",
    "        seq.append(j)\n"
   ]
  },
  {
   "cell_type": "code",
   "execution_count": 4,
   "metadata": {},
   "outputs": [
    {
     "name": "stdout",
     "output_type": "stream",
     "text": [
      "ID: QHR63259.1\n",
      "Name: QHR63259.1\n",
      "Description: QHR63259.1 orf1ab polyprotein [Severe acute respiratory syndrome coronavirus 2]\n",
      "Number of features: 0\n",
      "Seq('MESLVPGFNEKTHVQLSLPVLQVRDVLVRGFGDSVEEVLSEARQHLKDGTCGLV...VNN')\n"
     ]
    }
   ],
   "source": [
    "print(seq[0])"
   ]
  },
  {
   "cell_type": "code",
   "execution_count": 5,
   "metadata": {},
   "outputs": [],
   "source": [
    "import pandas as pd\n",
    "\n",
    "df = pd.DataFrame(columns=['id', 'name', 'description', 'number of features', 'sequence'])\n"
   ]
  },
  {
   "cell_type": "code",
   "execution_count": 6,
   "metadata": {},
   "outputs": [],
   "source": [
    "df['id'] = [i.id for i in seq]\n",
    "df['name'] = [i.name for i in seq]\n",
    "df['description'] = [i.description for i in seq]\n",
    "df['number of features'] = [len(i.features) for i in seq]\n",
    "df['sequence'] = [i.seq for i in seq]"
   ]
  },
  {
   "cell_type": "code",
   "execution_count": 7,
   "metadata": {},
   "outputs": [],
   "source": [
    "df.to_csv('beta.csv', index=False)"
   ]
  }
 ],
 "metadata": {
  "kernelspec": {
   "display_name": "Python 3",
   "language": "python",
   "name": "python3"
  },
  "language_info": {
   "codemirror_mode": {
    "name": "ipython",
    "version": 3
   },
   "file_extension": ".py",
   "mimetype": "text/x-python",
   "name": "python",
   "nbconvert_exporter": "python",
   "pygments_lexer": "ipython3",
   "version": "3.9.2"
  },
  "orig_nbformat": 4,
  "vscode": {
   "interpreter": {
    "hash": "916dbcbb3f70747c44a77c7bcd40155683ae19c65e1c03b4aa3499c5328201f1"
   }
  }
 },
 "nbformat": 4,
 "nbformat_minor": 2
}
